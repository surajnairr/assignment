{
 "cells": [
  {
   "cell_type": "code",
   "execution_count": null,
   "id": "5cfe00d0-536a-4d3f-b73a-d09982cb3126",
   "metadata": {},
   "outputs": [],
   "source": []
  },
  {
   "cell_type": "code",
   "execution_count": 10,
   "id": "3ad6f745-2349-454b-b9e7-bd70c64f1044",
   "metadata": {},
   "outputs": [
    {
     "name": "stdin",
     "output_type": "stream",
     "text": [
      "enter a number 2\n"
     ]
    },
    {
     "name": "stdout",
     "output_type": "stream",
     "text": [
      "2\n",
      "4\n",
      "6\n",
      "8\n",
      "10\n",
      "12\n",
      "14\n",
      "16\n",
      "18\n",
      "20\n"
     ]
    }
   ],
   "source": [
    "#1.for loop is used for definite loops when the number of iteration is known.\n",
    "#Example:\n",
    "n=int(input(\"enter a number\"))\n",
    "for i in range(0,10):\n",
    "    i+=1\n",
    "    print(n*i)"
   ]
  },
  {
   "cell_type": "code",
   "execution_count": 11,
   "id": "8c0b276a-b21e-43e4-af0c-c2e9738885d5",
   "metadata": {},
   "outputs": [
    {
     "name": "stdin",
     "output_type": "stream",
     "text": [
      "enter a number 2\n"
     ]
    },
    {
     "name": "stdout",
     "output_type": "stream",
     "text": [
      "2\n",
      "4\n",
      "6\n",
      "8\n",
      "10\n",
      "12\n",
      "14\n",
      "16\n",
      "18\n",
      "20\n"
     ]
    }
   ],
   "source": [
    "#while loop is used when the number of iteration is not known\n",
    "n=int(input(\"enter a number\"))\n",
    "i=0\n",
    "while(i<10):\n",
    "    i+=1\n",
    "    print(n*i)"
   ]
  },
  {
   "cell_type": "code",
   "execution_count": 34,
   "id": "ac48fded-c1d5-4a03-a59c-4ffe26459a3e",
   "metadata": {},
   "outputs": [
    {
     "name": "stdout",
     "output_type": "stream",
     "text": [
      "55\n"
     ]
    }
   ],
   "source": [
    "#2. sum of first 10 natural numbers using while loop\n",
    "   \n",
    "i=1\n",
    "sum=0\n",
    "while i<11:\n",
    "    sum=sum+i\n",
    "    i=i+1\n",
    "print(sum)"
   ]
  },
  {
   "cell_type": "code",
   "execution_count": 40,
   "id": "9f45f263-2f72-49fb-8948-a245b6484b3e",
   "metadata": {},
   "outputs": [
    {
     "name": "stdout",
     "output_type": "stream",
     "text": [
      "3628800\n"
     ]
    }
   ],
   "source": [
    "#2. product of first 10 natural numbers using while loop\n",
    "\n",
    "i=1\n",
    "product=1\n",
    "while(i<11):\n",
    "    product=product*i\n",
    "    i=i+1\n",
    "print(product)"
   ]
  },
  {
   "cell_type": "code",
   "execution_count": 47,
   "id": "2c288f90-d9db-45d1-a29a-ff9e47a10561",
   "metadata": {},
   "outputs": [
    {
     "name": "stdout",
     "output_type": "stream",
     "text": [
      "55\n"
     ]
    }
   ],
   "source": [
    "#2. sum of first 10 natural numbers using for loop\n",
    "\n",
    "sum=0\n",
    "for i in range(0,11):\n",
    "    sum=sum+i\n",
    "print(sum)\n",
    "    "
   ]
  },
  {
   "cell_type": "code",
   "execution_count": 53,
   "id": "cb374bda-96e0-40d8-99ae-5924574915e1",
   "metadata": {},
   "outputs": [
    {
     "name": "stdout",
     "output_type": "stream",
     "text": [
      "3628800\n"
     ]
    }
   ],
   "source": [
    "#2. product of first 10 natural numbers using for loop\n",
    "\n",
    "product=1\n",
    "for i in range(1,11):\n",
    "    product=product*i\n",
    "print(product)"
   ]
  },
  {
   "cell_type": "code",
   "execution_count": 92,
   "id": "0156ddff-8e61-48ea-8c1f-0937400b3d8d",
   "metadata": {},
   "outputs": [
    {
     "name": "stdin",
     "output_type": "stream",
     "text": [
      "enter the units of electricity consumed 310\n"
     ]
    },
    {
     "name": "stdout",
     "output_type": "stream",
     "text": [
      "2250.0\n"
     ]
    }
   ],
   "source": [
    "#3. Create a python program to compute the electricity bill for a household.\n",
    "\n",
    "units=int(input(\"enter the units of electricity consumed\"))\n",
    "if units<=100:\n",
    "    print(units*4.5)\n",
    "elif units<100 and units<=200:\n",
    "    print((100 * 4.5) + ((units - 100) * 6))\n",
    "elif(units>200 and units<=300):\n",
    "    print((100 * 4.5) + (100 * 6) + ((units - 200) * 10))\n",
    "else:\n",
    "    print((100 * 4.5) + (100 * 6) + (100 * 10) + ((units - 300) * 20))\n"
   ]
  },
  {
   "cell_type": "code",
   "execution_count": 1,
   "id": "722b8e14-24a7-410c-974e-67e442500d48",
   "metadata": {},
   "outputs": [
    {
     "name": "stdout",
     "output_type": "stream",
     "text": [
      "[2, 4, 5, 6, 8, 10, 12, 14, 15, 16, 18, 20, 22, 24, 25, 26, 28, 30, 32, 34, 35, 36, 38, 40, 42, 44, 45, 46, 48, 50, 52, 54, 55, 56, 58, 60, 62, 64, 65, 66, 68, 70, 72, 74, 75, 76, 78, 80, 82, 84, 85, 86, 88, 90, 92, 94, 95, 96, 98, 100]\n"
     ]
    }
   ],
   "source": [
    "l1=[]\n",
    "for i in range(1,101):\n",
    "    cube = i ** 3\n",
    "    if cube % 4 == 0 or cube % 5 == 0:\n",
    "        l1.append(i)\n",
    "print(l1)\n",
    "\n",
    "        "
   ]
  },
  {
   "cell_type": "code",
   "execution_count": 2,
   "id": "cb8354b1-8639-466d-89b9-65aafe34dbfe",
   "metadata": {},
   "outputs": [
    {
     "name": "stdout",
     "output_type": "stream",
     "text": [
      "[2, 4, 5, 6, 8, 10, 12, 14, 15, 16, 18, 20, 22, 24, 25, 26, 28, 30, 32, 34, 35, 36, 38, 40, 42, 44, 45, 46, 48, 50, 52, 54, 55, 56, 58, 60, 62, 64, 65, 66, 68, 70, 72, 74, 75, 76, 78, 80, 82, 84, 85, 86, 88, 90, 92, 94, 95, 96, 98, 100]\n"
     ]
    }
   ],
   "source": [
    "l1=[]\n",
    "i=1\n",
    "while(i<=100):\n",
    "    cube = i ** 3\n",
    "    if cube % 4 == 0 or cube % 5 == 0:\n",
    "        l1.append(i)\n",
    "    i=i+1\n",
    "print(l1)"
   ]
  },
  {
   "cell_type": "code",
   "execution_count": 11,
   "id": "6793334f-0018-48ff-87c4-875e74acd67f",
   "metadata": {},
   "outputs": [
    {
     "name": "stdout",
     "output_type": "stream",
     "text": [
      " no. of vowels: 0\n"
     ]
    }
   ],
   "source": [
    "string= \"I want to become a data scientist\"\n",
    "vowels=\"aeiouAEIOU\"\n",
    "count=0\n",
    "n=0\n",
    "for i in string:\n",
    "    if i[n] == vowels:\n",
    "        n=n+1\n",
    "        count+=1\n",
    "print(\" no. of vowels:\", count)"
   ]
  },
  {
   "cell_type": "code",
   "execution_count": null,
   "id": "dc070e57-441f-4a1d-a07c-c3bf419f5270",
   "metadata": {},
   "outputs": [],
   "source": [
    "\n",
    "\n"
   ]
  }
 ],
 "metadata": {
  "kernelspec": {
   "display_name": "Python 3 (ipykernel)",
   "language": "python",
   "name": "python3"
  },
  "language_info": {
   "codemirror_mode": {
    "name": "ipython",
    "version": 3
   },
   "file_extension": ".py",
   "mimetype": "text/x-python",
   "name": "python",
   "nbconvert_exporter": "python",
   "pygments_lexer": "ipython3",
   "version": "3.10.8"
  }
 },
 "nbformat": 4,
 "nbformat_minor": 5
}
